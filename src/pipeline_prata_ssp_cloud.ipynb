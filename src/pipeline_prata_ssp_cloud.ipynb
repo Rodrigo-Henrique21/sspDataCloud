{
 "cells": [
  {
   "cell_type": "code",
   "execution_count": 0,
   "metadata": {
    "application/vnd.databricks.v1+cell": {
     "cellMetadata": {},
     "inputWidgets": {},
     "nuid": "e533340e-8e56-41b6-906e-0bb0933f7869",
     "showTitle": false,
     "tableResultSettingsMap": {},
     "title": ""
    }
   },
   "outputs": [],
   "source": [
    "from pyspark.sql import SparkSession, functions as F"
   ]
  },
  {
   "cell_type": "code",
   "execution_count": 0,
   "metadata": {
    "application/vnd.databricks.v1+cell": {
     "cellMetadata": {},
     "inputWidgets": {},
     "nuid": "2dd2c3df-a15f-4c94-a429-09fc4d245790",
     "showTitle": false,
     "tableResultSettingsMap": {},
     "title": ""
    }
   },
   "outputs": [],
   "source": [
    "class MaturacaoSSPSilver:\n",
    "    \"\"\"\n",
    "    Classe para maturação incremental detalhada dos dados da camada Bronze para Silver.\n",
    "    Realiza tratamentos específicos por coluna, incluindo conversão de tipos e padronizações.\n",
    "    \"\"\"\n",
    "\n",
    "    def __init__(self, spark_session: SparkSession, tabela_bronze: str, tabela_silver: str):\n",
    "        self.spark = spark_session\n",
    "        self.tabela_bronze = tabela_bronze\n",
    "        self.tabela_silver = tabela_silver\n",
    "\n",
    "    def carregar_dados_bronze(self):\n",
    "        print(\"📥 [INFO] Carregando dados da camada Bronze...\")\n",
    "        return self.spark.table(self.tabela_bronze)\n",
    "\n",
    "    def tratar_dados(self, df_bronze):\n",
    "        print(\"🛠️ [INFO] Tratando e preparando dados para camada Silver...\")\n",
    "\n",
    "        # Tratamento específico das datas\n",
    "        colunas_data = [col for col in df_bronze.columns if 'DATA' in col]\n",
    "        for coluna in colunas_data:\n",
    "            df_bronze = df_bronze.withColumn(\n",
    "                coluna,\n",
    "                F.to_date(F.col(coluna), 'yyyy-MM-dd').cast('date')\n",
    "            )\n",
    "\n",
    "        # Tratamento específico de numéricos (exemplo: LATITUDE, LONGITUDE)\n",
    "        colunas_numericas = ['LATITUDE', 'LONGITUDE']\n",
    "        for coluna in colunas_numericas:\n",
    "            df_bronze = df_bronze.withColumn(\n",
    "                coluna,\n",
    "                F.col(coluna).cast('decimal(10,18)')\n",
    "            )\n",
    "        # Manter coluna mes_estatistica como inteiro\n",
    "        df_bronze = df_bronze.withColumn(\"mes_estatistica\", F.col(\"mes_estatistica\").cast(\"int\"))\n",
    "\n",
    "        # Tratamento específico das horas\n",
    "        colunas_hora = [col for col in df_bronze.columns if 'HORA' in col]\n",
    "        for coluna in colunas_hora:\n",
    "            df_bronze = df_bronze.withColumn(\n",
    "                coluna,\n",
    "                F.to_timestamp(F.col(coluna), 'yyyy-MM-dd HH:mm:ss').cast('timestamp')\n",
    "            )\n",
    "\n",
    "        # Padronização de campos string\n",
    "        colunas_string = ['DELEGACIA_NOME', 'CIDADE', 'BAIRRO', 'RUBRICA', 'PERIDOOCORRENCIA', 'LOGRADOURO', 'DESCRICAOLOCAL', 'SOLUCAO']\n",
    "        for coluna in colunas_string:\n",
    "            df_bronze = df_bronze.withColumn(\n",
    "                coluna,\n",
    "                F.upper(F.trim(F.col(coluna)))\n",
    "            )\n",
    "\n",
    "        # Limpeza de linhas vazias (totalmente nulas)\n",
    "        df_bronze = df_bronze.na.drop(\"all\")\n",
    "\n",
    "        print(\"✅ [INFO] Dados tratados detalhadamente com sucesso.\")\n",
    "        return df_bronze\n",
    "\n",
    "    def salvar_silver(self, df_silver):\n",
    "        print(f\"💾 [INFO] Salvando dados tratados na camada Silver ({self.tabela_silver})...\")\n",
    "        try:\n",
    "            df_silver.write \\\n",
    "                .format(\"delta\") \\\n",
    "                .mode(\"overwrite\") \\\n",
    "                .option(\"mergeSchema\", \"true\") \\\n",
    "                .saveAsTable(self.tabela_silver)\n",
    "\n",
    "            print(\"✅ [INFO] Dados salvos com sucesso na camada Silver.\")\n",
    "        except Exception as e:\n",
    "            print(f\"🔴 [ERRO] Falha ao salvar dados na camada Silver: {e}\")\n",
    "\n",
    "    def executar_maturacao(self):\n",
    "        print(\"🚀 [INFO] Iniciando maturação detalhada de Bronze para Silver...\")\n",
    "        df_bronze = self.carregar_dados_bronze()\n",
    "        df_silver = self.tratar_dados(df_bronze)\n",
    "        self.salvar_silver(df_silver)\n",
    "        print(\"🏁 [INFO] Processo de maturação concluído com sucesso!\")"
   ]
  },
  {
   "cell_type": "code",
   "execution_count": 0,
   "metadata": {
    "application/vnd.databricks.v1+cell": {
     "cellMetadata": {},
     "inputWidgets": {},
     "nuid": "98ed4789-80b6-4072-ac6f-863ea917a636",
     "showTitle": false,
     "tableResultSettingsMap": {},
     "title": ""
    }
   },
   "outputs": [],
   "source": [
    "maturacao = MaturacaoSSPSilver(\n",
    "    spark_session=spark,\n",
    "    tabela_bronze=\"bronze_sp_dados_criminais\",\n",
    "    tabela_silver=\"silver_sp_dados_criminais\"\n",
    ")\n",
    "\n",
    "maturacao.executar_maturacao()"
   ]
  }
 ],
 "metadata": {
  "application/vnd.databricks.v1+notebook": {
   "computePreferences": null,
   "dashboards": [],
   "environmentMetadata": {
    "base_environment": "",
    "environment_version": "2"
   },
   "inputWidgetPreferences": null,
   "language": "python",
   "notebookMetadata": {
    "pythonIndentUnit": 4
   },
   "notebookName": "pipeline_prata_ssp_cloud",
   "widgets": {}
  },
  "language_info": {
   "name": "python"
  }
 },
 "nbformat": 4,
 "nbformat_minor": 0
}
